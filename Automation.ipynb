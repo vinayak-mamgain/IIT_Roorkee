{
 "cells": [
  {
   "cell_type": "code",
   "execution_count": 5,
   "id": "731ca22a",
   "metadata": {},
   "outputs": [],
   "source": [
    "import schedule\n",
    "import time\n",
    "import requests\n",
    "import pandas as pd\n",
    "from datetime import datetime, timedelta, date\n",
    "import pyodbc\n",
    "from sqlalchemy import create_engine\n",
    "import mysql.connector"
   ]
  },
  {
   "cell_type": "code",
   "execution_count": 6,
   "id": "671f4390",
   "metadata": {},
   "outputs": [],
   "source": [
    "def inserting_sql():\n",
    "    db_config = {\n",
    "    'host': 'Localhost',\n",
    "    'user': 'root',\n",
    "    'password': '8november2002',\n",
    "    'database': 'bhavDB',\n",
    "    }\n",
    "    connection = mysql.connector.connect(**db_config)\n",
    "    cursor = connection.cursor()\n",
    "    engine = create_engine(f\"mysql+mysqlconnector://{db_config['user']}:{db_config['password']}@{db_config['host']}/{db_config['database']}\")\n",
    "\n",
    "    current_date=datetime.now()\n",
    "    date = current_date.strftime('%d%m%Y')\n",
    "    # print(date)\n",
    "    dates=[]\n",
    "    dates.append(current_date.strftime(\"%d%m%Y\"))\n",
    "\n",
    "    for date in dates:\n",
    "        day_of_week = datetime.strptime(date,\"%d%m%Y\").weekday()\n",
    "        if day_of_week in [5,6]:\n",
    "            continue\n",
    "\n",
    "        data = pd.read_csv(f\"/Users/vinayak/Desktop/IIT Roorkee/Downloading Bhavcopy/bhav{date}.csv\")\n",
    "        df = pd.DataFrame(data)\n",
    "\n",
    "        df['DATE1'] = pd.to_datetime(df['DATE1'], format='%d-%b-%Y').dt.strftime('%Y-%m-%d')\n",
    "        for index, row in df.iterrows():\n",
    "            cursor.execute(\"\"\"\n",
    "                INSERT INTO StockData (SYMBOL, SERIES, DATE1, PREV_CLOSE, OPEN_PRICE, HIGH_PRICE, LOW_PRICE, LAST_PRICE, CLOSE_PRICE, AVG_PRICE, TTL_TRD_QNTY, TURNOVER_LACS, NO_OF_TRADES, DELIV_QTY, DELIV_PER)\n",
    "                VALUES (%s, %s, %s, %s, %s, %s, %s, %s, %s, %s, %s, %s, %s, %s, %s)\n",
    "            \"\"\", tuple(row))\n",
    "        df.to_sql('StockData', con=engine, if_exists='append', index=False)\n",
    "\n",
    "    connection.commit()\n",
    "    cursor.close()\n",
    "    connection.close()\n"
   ]
  },
  {
   "cell_type": "code",
   "execution_count": 7,
   "id": "5f45183d",
   "metadata": {},
   "outputs": [],
   "source": [
    "def download_bhavcopy():\n",
    "    current_date=datetime.now()\n",
    "    date = current_date.strftime('%d%m%Y')\n",
    "    # print(date)\n",
    "    dates=[]\n",
    "    dates.append(current_date.strftime(\"%d%m%Y\"))\n",
    "\n",
    "    for date in dates:\n",
    "        day_of_week = datetime.strptime(date,\"%d%m%Y\").weekday()\n",
    "        if day_of_week in [5,6]:\n",
    "            continue\n",
    "\n",
    "        url=f\"https://archives.nseindia.com/products/content/sec_bhavdata_full_{date}.csv\"\n",
    "\n",
    "        response=requests.get(url,timeout=10)\n",
    "        if(response.status_code==200):\n",
    "            with open(f\"/Users/vinayak/Desktop/IIT Roorkee/Downloading Bhavcopy/bhav{date}.csv\",'wb') as file:\n",
    "                for chunk in response.iter_content():\n",
    "                    file.write(chunk)\n",
    "\n",
    "        csv_file_path = f\"/Users/vinayak/Desktop/IIT Roorkee/Downloading Bhavcopy/bhav{date}.csv\"\n",
    "        df = pd.read_csv(csv_file_path)\n",
    "\n",
    "        # Remove leading and trailing whitespaces from column names\n",
    "        df.columns = df.columns.str.strip()\n",
    "        df = df.apply(lambda x: x.str.strip() if x.dtype == 'object' else x)\n",
    "\n",
    "        # Filter rows where 'SERIES' is either 'EQ' or 'BE'\n",
    "        filtered_df = df[df['SERIES'].isin(['EQ', 'BE'])]\n",
    "        # Overwrite the original CSV file with the filtered data\n",
    "        filtered_df.to_csv(csv_file_path, index=False)\n",
    "\n",
    "        inserting_sql()\n"
   ]
  },
  {
   "cell_type": "code",
   "execution_count": 8,
   "id": "c08ef0a0",
   "metadata": {},
   "outputs": [
    {
     "ename": "KeyboardInterrupt",
     "evalue": "",
     "output_type": "error",
     "traceback": [
      "\u001b[0;31m---------------------------------------------------------------------------\u001b[0m",
      "\u001b[0;31mKeyboardInterrupt\u001b[0m                         Traceback (most recent call last)",
      "Cell \u001b[0;32mIn[8], line 5\u001b[0m\n\u001b[1;32m      3\u001b[0m \u001b[38;5;28;01mwhile\u001b[39;00m \u001b[38;5;28;01mTrue\u001b[39;00m:\n\u001b[1;32m      4\u001b[0m     schedule\u001b[38;5;241m.\u001b[39mrun_pending()\n\u001b[0;32m----> 5\u001b[0m     time\u001b[38;5;241m.\u001b[39msleep(\u001b[38;5;241m10\u001b[39m)\n",
      "\u001b[0;31mKeyboardInterrupt\u001b[0m: "
     ]
    }
   ],
   "source": [
    "\n",
    "schedule.every().day.at('19:45').do(download_bhavcopy)\n",
    "\n",
    "while True:\n",
    "    schedule.run_pending()\n",
    "    time.sleep(10)"
   ]
  }
 ],
 "metadata": {
  "kernelspec": {
   "display_name": "Python 3 (ipykernel)",
   "language": "python",
   "name": "python3"
  },
  "language_info": {
   "codemirror_mode": {
    "name": "ipython",
    "version": 3
   },
   "file_extension": ".py",
   "mimetype": "text/x-python",
   "name": "python",
   "nbconvert_exporter": "python",
   "pygments_lexer": "ipython3",
   "version": "3.11.3"
  }
 },
 "nbformat": 4,
 "nbformat_minor": 5
}

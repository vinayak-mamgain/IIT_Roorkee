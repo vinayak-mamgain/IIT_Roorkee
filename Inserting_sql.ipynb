{
 "cells": [
  {
   "cell_type": "code",
   "execution_count": 1,
   "metadata": {},
   "outputs": [],
   "source": [
    "import pandas as pd\n",
    "import pyodbc\n",
    "from sqlalchemy import create_engine\n",
    "import mysql.connector\n",
    "from datetime import datetime, timedelta"
   ]
  },
  {
   "cell_type": "code",
   "execution_count": 2,
   "metadata": {},
   "outputs": [],
   "source": [
    "db_config = {\n",
    "    'host': 'Localhost',\n",
    "    'user': 'root',\n",
    "    'password': '',\n",
    "    'database': 'bhavDB',\n",
    "}\n",
    "connection = mysql.connector.connect(**db_config)\n",
    "cursor = connection.cursor()\n",
    "engine = create_engine(f\"mysql+mysqlconnector://{db_config['user']}:{db_config['password']}@{db_config['host']}/{db_config['database']}\")"
   ]
  },
  {
   "cell_type": "code",
   "execution_count": 3,
   "metadata": {},
   "outputs": [],
   "source": [
    "start_date=\"17012024\"\n",
    "end_date=\"17012024\"\n",
    "dates=[]\n",
    "current_date = datetime.strptime(start_date,\"%d%m%Y\")\n",
    "end_dt = datetime.strptime(end_date,\"%d%m%Y\")\n",
    "while current_date<=end_dt:\n",
    "    dates.append(current_date.strftime(\"%d%m%Y\"))\n",
    "    current_date+=timedelta(days=1)\n",
    "\n",
    "for date in dates:\n",
    "    day_of_week = datetime.strptime(date,\"%d%m%Y\").weekday()\n",
    "    if day_of_week in [5,6]:\n",
    "        continue\n",
    "\n",
    "    data = pd.read_csv(f\"/Users/vinayak/Desktop/IIT Roorkee/Downloading Bhavcopy/bhav{date}.csv\")\n",
    "    df = pd.DataFrame(data)\n",
    "\n",
    "    df['DATE1'] = pd.to_datetime(df['DATE1'], format='%d-%b-%Y').dt.strftime('%Y-%m-%d')\n",
    "    for index, row in df.iterrows():\n",
    "        cursor.execute(\"\"\"\n",
    "            INSERT INTO StockData (SYMBOL, SERIES, DATE1, PREV_CLOSE, OPEN_PRICE, HIGH_PRICE, LOW_PRICE, LAST_PRICE, CLOSE_PRICE, AVG_PRICE, TTL_TRD_QNTY, TURNOVER_LACS, NO_OF_TRADES, DELIV_QTY, DELIV_PER)\n",
    "            VALUES (%s, %s, %s, %s, %s, %s, %s, %s, %s, %s, %s, %s, %s, %s, %s)\n",
    "        \"\"\", tuple(row))\n",
    "    df.to_sql('StockData', con=engine, if_exists='append', index=False)"
   ]
  },
  {
   "cell_type": "code",
   "execution_count": 4,
   "metadata": {},
   "outputs": [],
   "source": [
    "connection.commit()\n",
    "cursor.close()\n",
    "connection.close()"
   ]
  }
 ],
 "metadata": {
  "kernelspec": {
   "display_name": "Python 3",
   "language": "python",
   "name": "python3"
  },
  "language_info": {
   "codemirror_mode": {
    "name": "ipython",
    "version": 3
   },
   "file_extension": ".py",
   "mimetype": "text/x-python",
   "name": "python",
   "nbconvert_exporter": "python",
   "pygments_lexer": "ipython3",
   "version": "3.11.3"
  }
 },
 "nbformat": 4,
 "nbformat_minor": 2
}

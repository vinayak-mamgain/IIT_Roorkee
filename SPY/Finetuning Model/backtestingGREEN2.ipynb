{
 "cells": [
  {
   "cell_type": "code",
   "execution_count": 1,
   "metadata": {},
   "outputs": [],
   "source": [
    "import schedule\n",
    "import time\n",
    "import pandas as pd\n",
    "from datetime import datetime, timedelta, date\n",
    "import pyodbc\n",
    "from sqlalchemy import create_engine\n",
    "import mysql.connector\n",
    "import csv"
   ]
  },
  {
   "cell_type": "code",
   "execution_count": 2,
   "metadata": {},
   "outputs": [],
   "source": [
    "db_config = {\n",
    "    'host': 'Localhost',\n",
    "    'user': 'root',\n",
    "    'password': '8november2002',\n",
    "    'database': 'bhavDB',\n",
    "}\n",
    "connection = mysql.connector.connect(**db_config)\n",
    "cursor = connection.cursor()"
   ]
  },
  {
   "cell_type": "code",
   "execution_count": 3,
   "metadata": {},
   "outputs": [],
   "source": [
    "file=pd.read_csv(f\"/Users/vinayak/Desktop/IIT Roorkee/SPY/Finetuning Model/greenSPY.csv\")\n",
    "for index, row in file.iterrows():\n",
    "    symbol = row['SYMBOL']\n",
    "    date = row['DATE']\n",
    "    stop_loss=row['STOP_LOSS']\n",
    "    date_object = datetime.strptime(date, \"%d-%b-%Y\")\n",
    "    date = date_object.date()\n",
    "    query=f\"SELECT * FROM StockData2024 WHERE SYMBOL='{symbol}' AND  DATE1 ='{date}'\"\n",
    "    cursor.execute(query)\n",
    "    result=cursor.fetchall()\n",
    "    \n",
    "    column_names = [desc[0] for desc in cursor.description]\n",
    "\n",
    "    data= pd.DataFrame(result, columns=column_names)\n",
    "\n",
    "    if not data.empty:\n",
    "        entry_price = data['CLOSE_PRICE'].iloc[0]\n",
    "        target_price = 1.20 * entry_price\n",
    "    \n",
    "\n",
    "        # print(symbol, entry_price, target_price, stop_loss)\n",
    "        current_date=date\n",
    "        day=0\n",
    "        while(True):\n",
    "            # date+1\n",
    "            current_date+=timedelta(days=1)\n",
    "            # get data for date and check if data is not empty\n",
    "            query=f\"SELECT * FROM StockData2024 WHERE SYMBOL='{symbol}' AND  DATE1 ='{current_date}'\"\n",
    "            cursor.execute(query)\n",
    "            result=cursor.fetchall()\n",
    "            day+=1\n",
    "            if(day==300):\n",
    "                break\n",
    "            if(len(result)!=0):\n",
    "                # check target and stoploss\n",
    "                data= pd.DataFrame(result, columns=column_names)\n",
    "                if(data.empty):\n",
    "                    continue\n",
    "                data=data.iloc[0]\n",
    "                if(data['HIGH_PRICE']>=target_price).any():\n",
    "                    filename = 'backtestingGREEN2.csv'\n",
    "                    with open(filename, 'a', newline='') as csvfile:\n",
    "                        csvwriter = csv.writer(csvfile)\n",
    "                        p_l=target_price-entry_price\n",
    "                        roi=100*p_l/entry_price\n",
    "                        csvwriter.writerows([[date,symbol,entry_price,\"Buy\",target_price,stop_loss,p_l,roi,target_price,\"Target Reached\",current_date]])\n",
    "                    break\n",
    "                elif(data['CLOSE_PRICE']<=stop_loss).any():\n",
    "                    filename = 'backtestingGREEN2.csv'\n",
    "                    with open(filename, 'a', newline='') as csvfile:\n",
    "                        csvwriter = csv.writer(csvfile)\n",
    "                        p_l=data['CLOSE_PRICE']-entry_price\n",
    "                        roi=100*p_l/entry_price\n",
    "                        csvwriter.writerows([[date,symbol,entry_price,\"Buy\",target_price,stop_loss,p_l,roi,target_price,\"Stoploss Hit\",current_date]])\n",
    "                    break\n",
    "            # EntryDate,Symbol,Entry_Price,Buy/Sell,Target,Stoploss,P_L,ROI,Exit_Price,Status,Exit_Date\n"
   ]
  },
  {
   "cell_type": "code",
   "execution_count": 4,
   "metadata": {},
   "outputs": [],
   "source": [
    "connection.commit()\n",
    "cursor.close()\n",
    "connection.close()"
   ]
  }
 ],
 "metadata": {
  "kernelspec": {
   "display_name": "Python 3",
   "language": "python",
   "name": "python3"
  },
  "language_info": {
   "codemirror_mode": {
    "name": "ipython",
    "version": 3
   },
   "file_extension": ".py",
   "mimetype": "text/x-python",
   "name": "python",
   "nbconvert_exporter": "python",
   "pygments_lexer": "ipython3",
   "version": "3.11.3"
  }
 },
 "nbformat": 4,
 "nbformat_minor": 2
}

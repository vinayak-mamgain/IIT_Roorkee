{
 "cells": [
  {
   "cell_type": "code",
   "execution_count": 1,
   "metadata": {},
   "outputs": [],
   "source": [
    "import requests\n",
    "import pandas as pd\n",
    "from datetime import datetime, timedelta"
   ]
  },
  {
   "cell_type": "code",
   "execution_count": 2,
   "metadata": {},
   "outputs": [],
   "source": [
    "# bhav31072023.csv\n",
    "\n",
    "start_date=\"17012024\"\n",
    "end_date=\"17012024\"\n",
    "\n",
    "dates=[]\n",
    "current_date = datetime.strptime(start_date,\"%d%m%Y\")\n",
    "end_dt = datetime.strptime(end_date,\"%d%m%Y\")\n",
    "\n",
    "while current_date<=end_dt:\n",
    "    dates.append(current_date.strftime(\"%d%m%Y\"))\n",
    "    current_date+=timedelta(days=1)\n",
    "\n",
    "for date in dates:\n",
    "    day_of_week = datetime.strptime(date,\"%d%m%Y\").weekday()\n",
    "    if day_of_week in [5,6]:\n",
    "        continue\n",
    "\n",
    "    url=f\"https://archives.nseindia.com/products/content/sec_bhavdata_full_{date}.csv\"\n",
    "\n",
    "    response=requests.get(url,timeout=10)\n",
    "    if(response.status_code==200):\n",
    "        with open(f\"/Users/vinayak/Desktop/IIT Roorkee/Downloading Bhavcopy/bhav{date}.csv\",'wb') as file:\n",
    "            for chunk in response.iter_content():\n",
    "                file.write(chunk)\n",
    "\n",
    "    csv_file_path = f\"/Users/vinayak/Desktop/IIT Roorkee/Downloading Bhavcopy/bhav{date}.csv\"\n",
    "    df = pd.read_csv(csv_file_path)\n",
    "\n",
    "    # Remove leading and trailing whitespaces from column names\n",
    "    df.columns = df.columns.str.strip()\n",
    "    df = df.apply(lambda x: x.str.strip() if x.dtype == 'object' else x)\n",
    "\n",
    "    # Filter rows where 'SERIES' is either 'EQ' or 'BE'\n",
    "    filtered_df = df[df['SERIES'].isin(['EQ', 'BE'])]\n",
    "    # Overwrite the original CSV file with the filtered data\n",
    "    filtered_df.to_csv(csv_file_path, index=False)\n",
    "\n"
   ]
  }
 ],
 "metadata": {
  "kernelspec": {
   "display_name": "Python 3",
   "language": "python",
   "name": "python3"
  },
  "language_info": {
   "codemirror_mode": {
    "name": "ipython",
    "version": 3
   },
   "file_extension": ".py",
   "mimetype": "text/x-python",
   "name": "python",
   "nbconvert_exporter": "python",
   "pygments_lexer": "ipython3",
   "version": "3.11.3"
  }
 },
 "nbformat": 4,
 "nbformat_minor": 2
}
